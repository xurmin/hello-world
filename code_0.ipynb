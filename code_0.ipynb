{
 "cells": [
  {
   "cell_type": "code",
   "execution_count": null,
   "metadata": {},
   "outputs": [],
   "source": [
    "# prompt the user to enter an integer between 0 and 1000\n",
    "integer = eval(input(\"Enter an integer between 0 and 1000: \"))\n",
    "\n",
    "# extract the first digit from left\n",
    "digit1 = integer // 100\n",
    "remaining = integer % 100\n",
    "\n",
    "# extract the second digit from left\n",
    "digit2 = remaining // 10\n",
    "remaining = remaining % 10\n",
    "\n",
    "# extract the third digit from left\n",
    "digit3 = remaining\n",
    "\n",
    "# calculate the total\n",
    "total = digit1 + digit2 + digit3\n",
    "\n",
    "# display the result\n",
    "print(\"Summation of digits in\", integer, \"is\", total)"
   ]
  }
 ],
 "metadata": {
  "kernelspec": {
   "display_name": "Python 3",
   "language": "python",
   "name": "python3"
  },
  "language_info": {
   "codemirror_mode": {
    "name": "ipython",
    "version": 3
   },
   "file_extension": ".py",
   "mimetype": "text/x-python",
   "name": "python",
   "nbconvert_exporter": "python",
   "pygments_lexer": "ipython3",
   "version": "3.7.4"
  }
 },
 "nbformat": 4,
 "nbformat_minor": 2
}
